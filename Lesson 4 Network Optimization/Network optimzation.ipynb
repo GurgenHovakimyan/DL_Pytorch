{
 "cells": [
  {
   "cell_type": "markdown",
   "id": "ce7d96e1",
   "metadata": {},
   "source": [
    "# Lesson 4"
   ]
  },
  {
   "cell_type": "markdown",
   "id": "a32e83c5",
   "metadata": {},
   "source": [
    "## Step 1: Preparing the data"
   ]
  },
  {
   "cell_type": "code",
   "execution_count": 1,
   "id": "85123f8e",
   "metadata": {
    "ExecuteTime": {
     "end_time": "2022-09-17T13:21:31.539189Z",
     "start_time": "2022-09-17T13:21:31.527804Z"
    }
   },
   "outputs": [],
   "source": [
    "import numpy as np\n",
    "import pandas as pd\n",
    "\n",
    "import matplotlib.pyplot as plt\n",
    "import seaborn as sns\n",
    "\n",
    "import torch\n",
    "import torch.nn as nn\n",
    "from torch.utils.data import Dataset\n",
    "from torch.utils.data import DataLoader\n",
    "from torch.utils.data import random_split\n",
    "from torch import Tensor\n",
    "from torch.nn import Linear\n",
    "from torch.nn import ReLU\n",
    "from torch.nn import Sigmoid\n",
    "from torch.nn import Softmax\n",
    "from torch.nn import Module\n",
    "\n",
    "from torch.optim import SGD\n",
    "from torch.nn import CrossEntropyLoss\n",
    "from torch.nn.init import kaiming_uniform_\n",
    "from torch.nn.init import xavier_uniform_\n",
    "from torch.utils.data import SubsetRandomSampler\n",
    "from sklearn.model_selection import train_test_split\n",
    "\n",
    "\n",
    "from tqdm import tqdm_notebook\n",
    "\n",
    "from sklearn.metrics import classification_report\n",
    "from sklearn.metrics import accuracy_score\n",
    "from sklearn.preprocessing import LabelEncoder, OrdinalEncoder\n",
    "from sklearn.model_selection import train_test_split\n",
    "\n",
    "from torchvision import transforms\n",
    "\n",
    "\n",
    "import os\n",
    "import warnings\n",
    "warnings.filterwarnings('ignore')"
   ]
  },
  {
   "cell_type": "markdown",
   "id": "24f9cec2",
   "metadata": {},
   "source": [
    "### DATASETS & DATALOADERS"
   ]
  },
  {
   "cell_type": "markdown",
   "id": "c4c9187d",
   "metadata": {},
   "source": [
    "Code for processing data samples can get messy and hard to maintain; we ideally want our dataset code to be decoupled from our model training code for better readability and modularity. PyTorch provides two data primitives: torch.utils.data.DataLoader and torch.utils.data.Dataset that allow you to use pre-loaded datasets as well as your own data. Dataset stores the samples and their corresponding labels, and DataLoader wraps an iterable around the Dataset to enable easy access to the samples.\n",
    "\n",
    "More info: https://pytorch.org/tutorials/beginner/basics/data_tutorial.html"
   ]
  },
  {
   "cell_type": "code",
   "execution_count": 2,
   "id": "2880d594",
   "metadata": {
    "ExecuteTime": {
     "end_time": "2022-09-17T13:21:31.568399Z",
     "start_time": "2022-09-17T13:21:31.542367Z"
    }
   },
   "outputs": [],
   "source": [
    "class CSVDataset(Dataset):\n",
    "    # load the dataset\n",
    "    def __init__(self, path):\n",
    "        df = pd.read_csv(path)\n",
    "        # store the inputs and outputs\n",
    "        self.X = df.values[:, :-1]\n",
    "        self.y = df.values[:, -1]\n",
    "        # ensure input data is floats\n",
    "        self.X = self.X.astype('float32')\n",
    "        self.y = LabelEncoder().fit_transform(self.y)\n",
    " \n",
    "    # number of rows in the dataset\n",
    "    def __len__(self):\n",
    "        return len(self.X)\n",
    " \n",
    "    # get a row at an index\n",
    "    def __getitem__(self, idx):\n",
    "        return [self.X[idx], self.y[idx]]\n",
    " \n",
    "    # get indexes for train and test rows\n",
    "    def get_splits(self, n_test=0.2):\n",
    "        # determine sizes\n",
    "        test_size = round(n_test * len(self.X))\n",
    "        train_size = len(self.X) - test_size\n",
    "        # calculate the split\n",
    "        return random_split(self, [train_size, test_size])"
   ]
  },
  {
   "cell_type": "code",
   "execution_count": 3,
   "id": "3a84552f",
   "metadata": {
    "ExecuteTime": {
     "end_time": "2022-09-17T13:21:31.584393Z",
     "start_time": "2022-09-17T13:21:31.572394Z"
    }
   },
   "outputs": [],
   "source": [
    "# prepare the dataset\n",
    "def prepare_data(path):\n",
    "    # load the dataset\n",
    "    dataset = CSVDataset(path)\n",
    "    # calculate split\n",
    "    train, test = dataset.get_splits()\n",
    "    # prepare data loaders\n",
    "    train_dl = DataLoader(train,batch_size=32, shuffle=True)\n",
    "    test_dl = DataLoader(test,batch_size=32, shuffle=False)\n",
    "    return train_dl, test_dl"
   ]
  },
  {
   "cell_type": "markdown",
   "id": "97d41e87",
   "metadata": {},
   "source": [
    "## Step 2: Prepearing module"
   ]
  },
  {
   "cell_type": "markdown",
   "id": "82a7e60e",
   "metadata": {},
   "source": [
    "### Module"
   ]
  },
  {
   "cell_type": "markdown",
   "id": "6bdd633c",
   "metadata": {},
   "source": [
    "Pytorch uses modules to represent neural networks: https://pytorch.org/docs/stable/generated/torch.nn.Module.html\n",
    "\n",
    "Xavier and kaiming weight initialization: https://pytorch.org/docs/stable/nn.init.html"
   ]
  },
  {
   "cell_type": "code",
   "execution_count": 4,
   "id": "5a1582b6",
   "metadata": {
    "ExecuteTime": {
     "end_time": "2022-09-17T13:21:31.611817Z",
     "start_time": "2022-09-17T13:21:31.584393Z"
    }
   },
   "outputs": [],
   "source": [
    "# model definition\n",
    "class MLP(Module):\n",
    "    # define model elements\n",
    "    def __init__(self, n_inputs):\n",
    "        super(MLP, self).__init__()\n",
    "        # input to first hidden layer\n",
    "        self.hidden1 = Linear(n_inputs, 10)\n",
    "        kaiming_uniform_(self.hidden1.weight, nonlinearity='relu')\n",
    "        self.act1 = ReLU()\n",
    "        # second hidden layer\n",
    "        self.hidden2 = Linear(10, 8)\n",
    "        kaiming_uniform_(self.hidden2.weight, nonlinearity='relu')\n",
    "        self.act2 = ReLU()\n",
    "        # third hidden layer and output\n",
    "        self.hidden3 = Linear(8, 2)\n",
    "        xavier_uniform_(self.hidden3.weight)\n",
    "        self.act3 = Softmax(dim = 1)\n",
    " \n",
    "    # forward propagate input\n",
    "    def forward(self, X):\n",
    "        # input to first hidden layer\n",
    "        X = self.hidden1(X)\n",
    "        X = self.act1(X)\n",
    "         # second hidden layer\n",
    "        X = self.hidden2(X)\n",
    "        X = self.act2(X)\n",
    "        # third hidden layer and output\n",
    "        X = self.hidden3(X)\n",
    "        X = self.act3(X)\n",
    "        return X"
   ]
  },
  {
   "cell_type": "code",
   "execution_count": 5,
   "id": "a7459a1a",
   "metadata": {
    "ExecuteTime": {
     "end_time": "2022-09-17T13:21:31.628373Z",
     "start_time": "2022-09-17T13:21:31.611817Z"
    }
   },
   "outputs": [],
   "source": [
    "# train the model\n",
    "def train_model(train_dl, model):\n",
    "    # define the optimization\n",
    "    criterion = CrossEntropyLoss()\n",
    "    optimizer = SGD(model.parameters(), lr=0.001)\n",
    "    # enumerate epochs\n",
    "    for epoch in tqdm_notebook(range(500)):\n",
    "        # enumerate mini batches\n",
    "        for i, (inputs, targets) in enumerate(train_dl):\n",
    "            # clear the gradients\n",
    "            optimizer.zero_grad()\n",
    "            # compute the model output\n",
    "            yhat = model(inputs)\n",
    "            # calculate loss\n",
    "            loss = criterion(yhat, targets)\n",
    "            # credit assignment\n",
    "            loss.backward()\n",
    "            # update model weights\n",
    "            optimizer.step()"
   ]
  },
  {
   "cell_type": "code",
   "execution_count": 6,
   "id": "ee6d828d",
   "metadata": {
    "ExecuteTime": {
     "end_time": "2022-09-17T13:21:31.646233Z",
     "start_time": "2022-09-17T13:21:31.632408Z"
    }
   },
   "outputs": [],
   "source": [
    "def evaluate_model(test_dl, model):\n",
    "    predictions, actuals = list(), list()\n",
    "    for i, (inputs, targets) in enumerate(test_dl):\n",
    "        # evaluate the model on the test set\n",
    "        yhat = model(inputs)\n",
    "        # retrieve numpy array\n",
    "        yhat = yhat.detach().numpy()\n",
    "        actual = targets.numpy()\n",
    "        # convert to class labels\n",
    "        yhat = np.argmax(yhat, axis=1)\n",
    "        # reshape for stacking\n",
    "        actual = actual.reshape(-1, 1)\n",
    "        yhat = yhat.reshape(-1, 1)\n",
    "        # store\n",
    "        predictions.append(yhat)\n",
    "        actuals.append(actual)\n",
    "    predictions, actuals = np.vstack(predictions), np.vstack(actuals)\n",
    "    # calculate accuracy\n",
    "    acc = accuracy_score(actuals, predictions)\n",
    "    return acc"
   ]
  },
  {
   "cell_type": "code",
   "execution_count": 7,
   "id": "c878eabb",
   "metadata": {
    "ExecuteTime": {
     "end_time": "2022-09-17T13:21:31.660297Z",
     "start_time": "2022-09-17T13:21:31.646719Z"
    }
   },
   "outputs": [],
   "source": [
    "# prepare the data\n",
    "path = 'model_data.csv'"
   ]
  },
  {
   "cell_type": "code",
   "execution_count": 8,
   "id": "caaf7f76",
   "metadata": {
    "ExecuteTime": {
     "end_time": "2022-09-17T13:21:31.714371Z",
     "start_time": "2022-09-17T13:21:31.661718Z"
    }
   },
   "outputs": [
    {
     "name": "stdout",
     "output_type": "stream",
     "text": [
      "4256 1064\n"
     ]
    }
   ],
   "source": [
    "train_dl, test_dl = prepare_data(path)\n",
    "print(len(train_dl.dataset), len(test_dl.dataset))"
   ]
  },
  {
   "cell_type": "code",
   "execution_count": 9,
   "id": "1aaf04c2",
   "metadata": {
    "ExecuteTime": {
     "end_time": "2022-09-17T13:21:31.743427Z",
     "start_time": "2022-09-17T13:21:31.719939Z"
    }
   },
   "outputs": [
    {
     "data": {
      "text/plain": [
       "<torch.utils.data.dataloader.DataLoader at 0x1eb31d74fa0>"
      ]
     },
     "execution_count": 9,
     "metadata": {},
     "output_type": "execute_result"
    }
   ],
   "source": [
    "train_dl"
   ]
  },
  {
   "cell_type": "code",
   "execution_count": 10,
   "id": "9001cfff",
   "metadata": {
    "ExecuteTime": {
     "end_time": "2022-09-17T13:21:31.759660Z",
     "start_time": "2022-09-17T13:21:31.747592Z"
    }
   },
   "outputs": [],
   "source": [
    "# define the netw\n",
    "model = MLP(12)"
   ]
  },
  {
   "cell_type": "code",
   "execution_count": 11,
   "id": "31ec495e",
   "metadata": {
    "ExecuteTime": {
     "end_time": "2022-09-17T13:21:31.778781Z",
     "start_time": "2022-09-17T13:21:31.764619Z"
    },
    "scrolled": false
   },
   "outputs": [
    {
     "data": {
      "text/plain": [
       "MLP(\n",
       "  (hidden1): Linear(in_features=12, out_features=10, bias=True)\n",
       "  (act1): ReLU()\n",
       "  (hidden2): Linear(in_features=10, out_features=8, bias=True)\n",
       "  (act2): ReLU()\n",
       "  (hidden3): Linear(in_features=8, out_features=2, bias=True)\n",
       "  (act3): Softmax(dim=1)\n",
       ")"
      ]
     },
     "execution_count": 11,
     "metadata": {},
     "output_type": "execute_result"
    }
   ],
   "source": [
    "model"
   ]
  },
  {
   "cell_type": "code",
   "execution_count": 12,
   "id": "43d82326",
   "metadata": {
    "ExecuteTime": {
     "end_time": "2022-09-17T13:26:39.994619Z",
     "start_time": "2022-09-17T13:21:31.781686Z"
    }
   },
   "outputs": [
    {
     "data": {
      "application/vnd.jupyter.widget-view+json": {
       "model_id": "8d2363530c58412f85b661b4077816b3",
       "version_major": 2,
       "version_minor": 0
      },
      "text/plain": [
       "  0%|          | 0/500 [00:00<?, ?it/s]"
      ]
     },
     "metadata": {},
     "output_type": "display_data"
    }
   ],
   "source": [
    "# train the model\n",
    "train_model(train_dl, model)"
   ]
  },
  {
   "cell_type": "code",
   "execution_count": 13,
   "id": "d09f1cc0",
   "metadata": {
    "ExecuteTime": {
     "end_time": "2022-09-17T13:26:40.500882Z",
     "start_time": "2022-09-17T13:26:39.998820Z"
    }
   },
   "outputs": [
    {
     "name": "stdout",
     "output_type": "stream",
     "text": [
      "Accuracy: 0.941\n"
     ]
    }
   ],
   "source": [
    "# evaluate the model\n",
    "acc = evaluate_model(test_dl, model)\n",
    "print('Accuracy: %.3f' % acc)"
   ]
  },
  {
   "cell_type": "code",
   "execution_count": null,
   "id": "e97f1213",
   "metadata": {},
   "outputs": [],
   "source": []
  },
  {
   "cell_type": "markdown",
   "id": "57ff650a",
   "metadata": {},
   "source": [
    "# Example on MNIST dataset"
   ]
  },
  {
   "cell_type": "code",
   "execution_count": 14,
   "id": "f71c970c",
   "metadata": {},
   "outputs": [],
   "source": [
    "for dirname, _, filenames in os.walk('/digit-recognizer'):\n",
    "    for filename in filenames:\n",
    "        print(os.path.join(dirname, filename))"
   ]
  },
  {
   "cell_type": "code",
   "execution_count": 15,
   "id": "55221c81",
   "metadata": {},
   "outputs": [],
   "source": [
    "train_df = pd.read_csv(\"digit-recognizer/train.csv\")\n",
    "test_df = pd.read_csv(\"digit-recognizer/test.csv\")"
   ]
  },
  {
   "cell_type": "code",
   "execution_count": 16,
   "id": "5265af78",
   "metadata": {},
   "outputs": [
    {
     "name": "stdout",
     "output_type": "stream",
     "text": [
      "(42000, 785) (28000, 784)\n"
     ]
    }
   ],
   "source": [
    "print(train_df.shape , test_df.shape)"
   ]
  },
  {
   "cell_type": "code",
   "execution_count": 17,
   "id": "132ee90e",
   "metadata": {},
   "outputs": [
    {
     "data": {
      "text/plain": [
       "0    4132\n",
       "1    4684\n",
       "2    4177\n",
       "3    4351\n",
       "4    4072\n",
       "5    3795\n",
       "6    4137\n",
       "7    4401\n",
       "8    4063\n",
       "9    4188\n",
       "Name: label, dtype: int64"
      ]
     },
     "execution_count": 17,
     "metadata": {},
     "output_type": "execute_result"
    }
   ],
   "source": [
    "train_df['label'].value_counts().sort_index()"
   ]
  },
  {
   "cell_type": "code",
   "execution_count": 18,
   "id": "0d032aec",
   "metadata": {},
   "outputs": [],
   "source": [
    "class CustomMNISTDataset(Dataset):\n",
    "    def __init__(self, csv_name, img_dir, transform=None, target_transform=None , label_name = \"label\"):\n",
    "        \n",
    "        self.img_filename = csv_name\n",
    "        self.img_dir = img_dir\n",
    "        self.transform = transform\n",
    "        self.target_transform = target_transform\n",
    "        self.label_name = label_name\n",
    "        \n",
    "        img_path = os.path.join(self.img_dir, self.img_filename)\n",
    "        self.img_df = pd.read_csv(img_path)\n",
    "\n",
    "    def __len__(self):\n",
    "        return len(self.img_df)\n",
    "\n",
    "    def __getitem__(self, idx):\n",
    "        \n",
    "        # Extracting all the other columns except label_name\n",
    "        img_cols = [ i for i in self.img_df.columns if i not in self.label_name]\n",
    "        \n",
    "        image = self.img_df.iloc[[idx]][img_cols].values\n",
    "\n",
    "        # Reshaping the array from 1*784 to 28*28\n",
    "        image = image.reshape(28,28)\n",
    "        # image = image.astype(float)\n",
    "\n",
    "        # Scaling the image so that the values only range between 0 and 1\n",
    "        image = image/255.0\n",
    "        \n",
    "        \n",
    "        if self.transform:\n",
    "            image = self.transform(image)\n",
    "    \n",
    "        image = image.to(torch.float)    \n",
    "        \n",
    "        if self.label_name in self.img_df.columns:\n",
    "            \n",
    "            if self.target_transform:\n",
    "                label = self.target_transform(label)\n",
    "            label = int(self.img_df.iloc[[idx]][self.label_name].values)\n",
    "            return image, label\n",
    "        \n",
    "        # Exceptions for test where labels are absent\n",
    "        else :\n",
    "            return image"
   ]
  },
  {
   "cell_type": "code",
   "execution_count": 19,
   "id": "5aa57b9e",
   "metadata": {},
   "outputs": [
    {
     "name": "stdout",
     "output_type": "stream",
     "text": [
      "Distribution of target values in training dataset ; \n",
      "0    0.098386\n",
      "1    0.111534\n",
      "2    0.099444\n",
      "3    0.103598\n",
      "4    0.096958\n",
      "5    0.090344\n",
      "6    0.098492\n",
      "7    0.104788\n",
      "8    0.096746\n",
      "9    0.099709\n",
      "Name: label, dtype: float64\n",
      "Distribution of target values in validation dataset ; \n",
      "0    0.098333\n",
      "1    0.111429\n",
      "2    0.099524\n",
      "3    0.103571\n",
      "4    0.096905\n",
      "5    0.090476\n",
      "6    0.098571\n",
      "7    0.104762\n",
      "8    0.096667\n",
      "9    0.099762\n",
      "Name: label, dtype: float64\n"
     ]
    }
   ],
   "source": [
    "indices = list(range(len(train_df)))\n",
    "train_indices , test_indices = train_test_split(indices, test_size=0.1, stratify=train_df['label'])\n",
    "\n",
    "len(train_indices) , len(test_indices) , len(train_df)\n",
    "\n",
    "train_subset = train_df.loc[train_indices]\n",
    "val_subset = train_df.loc[test_indices]\n",
    "\n",
    "print(\"Distribution of target values in training dataset ; \")\n",
    "print( train_subset['label'].value_counts().sort_index() / train_subset['label'].value_counts().sort_index().sum() )\n",
    "\n",
    "print(\"Distribution of target values in validation dataset ; \")\n",
    "print( val_subset['label'].value_counts().sort_index() / val_subset['label'].value_counts().sort_index().sum() )"
   ]
  },
  {
   "cell_type": "code",
   "execution_count": 20,
   "id": "f9822d64",
   "metadata": {},
   "outputs": [
    {
     "name": "stdout",
     "output_type": "stream",
     "text": [
      "torch.Size([1, 28, 28]) 1\n"
     ]
    }
   ],
   "source": [
    "# Crerating a temp dataset\n",
    "train_csv_name = \"train.csv\"\n",
    "test_csv_name = \"test.csv\"\n",
    "img_dir = \"digit-recognizer/\"\n",
    "\n",
    "# Converting X variables to Tensors\n",
    "transforms = transforms.Compose( [transforms.ToTensor() , transforms.Normalize((0.5,), (0.5,)) , ] )\n",
    "\n",
    "# Converting y-labels to one hot encoding\n",
    "# target_transform = Lambda(lambda y: torch.zeros(\n",
    "#     len(train_df['label'].unique()), dtype=torch.float).scatter_(dim=0, index=torch.tensor(y), value=1))\n",
    "# This is not need since we are going to be using cross entropy loss function\n",
    "\n",
    "label_name = \"label\"\n",
    "\n",
    "train_dataset = CustomMNISTDataset(csv_name = train_csv_name , img_dir = img_dir,\n",
    "                                   transform = transforms , target_transform = None , label_name = label_name)\n",
    "\n",
    "# Inspecting the fist line item under dataset\n",
    "x0 , y0 = train_dataset[0]\n",
    "print(x0.shape , y0)"
   ]
  },
  {
   "cell_type": "code",
   "execution_count": 21,
   "id": "21968f9b",
   "metadata": {},
   "outputs": [
    {
     "data": {
      "text/plain": [
       "Compose(\n",
       "    ToTensor()\n",
       "    Normalize(mean=(0.5,), std=(0.5,))\n",
       ")"
      ]
     },
     "execution_count": 21,
     "metadata": {},
     "output_type": "execute_result"
    }
   ],
   "source": [
    "transforms"
   ]
  },
  {
   "cell_type": "code",
   "execution_count": 22,
   "id": "7ddae7a0",
   "metadata": {},
   "outputs": [
    {
     "data": {
      "image/png": "[encoded data removed]",
      "text/plain": [
       "<Figure size 576x576 with 10 Axes>"
      ]
     },
     "metadata": {
      "needs_background": "light"
     },
     "output_type": "display_data"
    }
   ],
   "source": [
    "figure = plt.figure(figsize=(8, 8))\n",
    "cols, rows = 3, 3\n",
    "figure.add_subplot(rows, cols, 1)\n",
    "for i in range(1, cols * rows + 1):\n",
    "    sample_idx = torch.randint(len(train_dataset), size=(1,)).item()\n",
    "    sample_img , sample_lbl = train_dataset[sample_idx]\n",
    "    figure.add_subplot(rows, cols, i)\n",
    "    plt.title(sample_lbl)\n",
    "    plt.axis(\"off\")\n",
    "    plt.imshow(sample_img.squeeze(), cmap=\"gray\")\n",
    "plt.show()"
   ]
  },
  {
   "cell_type": "code",
   "execution_count": 23,
   "id": "afe63a30",
   "metadata": {},
   "outputs": [
    {
     "name": "stdout",
     "output_type": "stream",
     "text": [
      "Using device: cuda\n",
      "x0 True\n"
     ]
    }
   ],
   "source": [
    "device = torch.device('cuda' if torch.cuda.is_available() else 'cpu')\n",
    "print('Using device:', device)\n",
    "torch.cuda.is_available()\n",
    "x0 = x0.to(device)\n",
    "print(\"x0\" , x0.is_cuda)"
   ]
  },
  {
   "cell_type": "code",
   "execution_count": 24,
   "id": "e918eb8a",
   "metadata": {},
   "outputs": [],
   "source": [
    "indices = list(range(len(train_df)))\n",
    "train_indices , valid_indices = train_test_split(indices, test_size=0.1, stratify=train_df['label'])"
   ]
  },
  {
   "cell_type": "code",
   "execution_count": 25,
   "id": "7a951a9e",
   "metadata": {},
   "outputs": [],
   "source": [
    "# Creating PT data samplers and loaders:\n",
    "train_sampler = SubsetRandomSampler(train_indices)\n",
    "valid_sampler = SubsetRandomSampler(test_indices)"
   ]
  },
  {
   "cell_type": "code",
   "execution_count": 26,
   "id": "648f8adc",
   "metadata": {},
   "outputs": [],
   "source": [
    "train_dataloader = torch.utils.data.DataLoader(train_dataset , batch_size=1024, sampler=train_sampler, num_workers=16)\n",
    "valid_dataloader = torch.utils.data.DataLoader(train_dataset, batch_size=1024, sampler=valid_sampler, num_workers=16)"
   ]
  },
  {
   "cell_type": "code",
   "execution_count": 27,
   "id": "42de64ec",
   "metadata": {},
   "outputs": [],
   "source": [
    "# x0 , y0 = next(iter(train_dataloader))\n",
    "# x0.shape , y0.shape"
   ]
  },
  {
   "cell_type": "code",
   "execution_count": 28,
   "id": "9f565179",
   "metadata": {},
   "outputs": [
    {
     "name": "stdout",
     "output_type": "stream",
     "text": [
      "Using cuda device\n"
     ]
    }
   ],
   "source": [
    "device = \"cuda\" if torch.cuda.is_available() else \"cpu\"\n",
    "print(f\"Using {device} device\")"
   ]
  },
  {
   "cell_type": "code",
   "execution_count": 29,
   "id": "00306f8d",
   "metadata": {},
   "outputs": [],
   "source": [
    "# device = \"cpu\""
   ]
  },
  {
   "cell_type": "code",
   "execution_count": 30,
   "id": "97f08be7",
   "metadata": {},
   "outputs": [],
   "source": [
    "class MNIST_MODEL(Module):\n",
    "    def __init__(self):\n",
    "        super(MNIST_MODEL, self).__init__()\n",
    "        self.flatten = nn.Flatten()\n",
    "        self.linear_relu_stack = nn.Sequential(\n",
    "            Linear(784, 128),\n",
    "            ReLU(),\n",
    "            Linear(128, 64),\n",
    "            ReLU(),\n",
    "            Linear(64, 10)\n",
    "            ## Softmax layer ignored since the loss function defined is nn.CrossEntropy()\n",
    "        )\n",
    "\n",
    "    def forward(self, x):\n",
    "        x = self.flatten(x)\n",
    "        logits = self.linear_relu_stack(x)\n",
    "        return  logits"
   ]
  },
  {
   "cell_type": "code",
   "execution_count": 31,
   "id": "ee0d6658",
   "metadata": {},
   "outputs": [
    {
     "name": "stdout",
     "output_type": "stream",
     "text": [
      "MNIST_MODEL(\n",
      "  (flatten): Flatten(start_dim=1, end_dim=-1)\n",
      "  (linear_relu_stack): Sequential(\n",
      "    (0): Linear(in_features=784, out_features=128, bias=True)\n",
      "    (1): ReLU()\n",
      "    (2): Linear(in_features=128, out_features=64, bias=True)\n",
      "    (3): ReLU()\n",
      "    (4): Linear(in_features=64, out_features=10, bias=True)\n",
      "  )\n",
      ")\n"
     ]
    }
   ],
   "source": [
    "model = MNIST_MODEL().to(device)\n",
    "print(model)"
   ]
  },
  {
   "cell_type": "code",
   "execution_count": 32,
   "id": "e90b80a0",
   "metadata": {},
   "outputs": [],
   "source": [
    "loss_fn = nn.CrossEntropyLoss()\n",
    "optimizer = torch.optim.SGD(model.parameters(), lr=3e-3)"
   ]
  },
  {
   "cell_type": "code",
   "execution_count": 33,
   "id": "807b1a24",
   "metadata": {},
   "outputs": [],
   "source": [
    "from torch.autograd import Variable\n",
    "from torch.utils.tensorboard import SummaryWriter"
   ]
  },
  {
   "cell_type": "code",
   "execution_count": 37,
   "id": "7804d4bd",
   "metadata": {},
   "outputs": [],
   "source": [
    "def train(dataloader, model, loss_fn, optimizer):\n",
    "    \n",
    "    # Total size of dataset for reference\n",
    "    size = 0\n",
    "    \n",
    "    # places your model into training mode\n",
    "    model.train()\n",
    "    \n",
    "    # loss batch\n",
    "    batch_loss = {}\n",
    "    batch_accuracy = {}\n",
    "    \n",
    "    correct = 0\n",
    "    _correct = 0\n",
    "    \n",
    "    \n",
    "    \n",
    "    # Gives X , y for each batch\n",
    "    for batch, (X, y) in enumerate(dataloader):\n",
    "        \n",
    "        # Converting device to cuda\n",
    "        X, y = X.to(device), y.to(device)\n",
    "        model.to(device)\n",
    "        \n",
    "        # Compute prediction error / loss\n",
    "        # 1. Compute y_pred \n",
    "        # 2. Compute loss between y and y_pred using selectd loss function\n",
    "        \n",
    "        y_pred = model(X)\n",
    "        loss = loss_fn(y_pred, y)\n",
    "\n",
    "        # Backpropagation on optimizing for loss\n",
    "        # 1. Sets gradients as 0 \n",
    "        # 2. Compute the gradients using back_prop\n",
    "        # 3. update the parameters using the gradients from step 2\n",
    "        \n",
    "        optimizer.zero_grad()\n",
    "        loss.backward()\n",
    "        optimizer.step()\n",
    "        \n",
    "        _correct = (y_pred.argmax(1) == y).type(torch.float).sum().item()\n",
    "        _batch_size = len(X)\n",
    "        \n",
    "        correct += _correct\n",
    "        \n",
    "        # Updating loss_batch and batch_accuracy\n",
    "        batch_loss[batch] = loss.item()\n",
    "        batch_accuracy[batch] = _correct/_batch_size\n",
    "        \n",
    "        size += _batch_size\n",
    "        \n",
    "        if batch % 100 == 0:\n",
    "            loss, current = loss.item(), batch * len(X)\n",
    "            print(f\"loss: {loss:>7f}  [{current:>5d}]\")\n",
    "    \n",
    "    correct/=size\n",
    "    print(f\"Train Accuracy: {(100*correct):>0.1f}%\")\n",
    "    \n",
    "    return batch_loss , batch_accuracy"
   ]
  },
  {
   "cell_type": "code",
   "execution_count": 38,
   "id": "69fa4b8b",
   "metadata": {},
   "outputs": [],
   "source": [
    "def validation(dataloader, model, loss_fn):\n",
    "    \n",
    "    # Total size of dataset for reference\n",
    "    size = 0\n",
    "    num_batches = len(dataloader)\n",
    "    \n",
    "    # Setting the model under evaluation mode.\n",
    "    model.eval()\n",
    "\n",
    "    test_loss, correct = 0, 0\n",
    "    \n",
    "    _correct = 0\n",
    "    _batch_size = 0\n",
    "    \n",
    "    batch_loss = {}\n",
    "    batch_accuracy = {}\n",
    "    \n",
    "    with torch.no_grad():\n",
    "        \n",
    "        # Gives X , y for each batch\n",
    "        for batch , (X, y) in enumerate(dataloader):\n",
    "            \n",
    "            X, y = X.to(device), y.to(device)\n",
    "            model.to(device)\n",
    "            pred = model(X)\n",
    "            \n",
    "            batch_loss[batch] = loss_fn(pred, y).item()\n",
    "            test_loss += batch_loss[batch]\n",
    "            _batch_size = len(X)\n",
    "            \n",
    "            _correct = (pred.argmax(1) == y).type(torch.float).sum().item()\n",
    "            correct += _correct\n",
    "            \n",
    "            size+=_batch_size\n",
    "            batch_accuracy[batch] = _correct/_batch_size\n",
    "            \n",
    "            \n",
    "            \n",
    "    \n",
    "    ## Calculating loss based on loss function defined\n",
    "    test_loss /= num_batches\n",
    "    \n",
    "    ## Calculating Accuracy based on how many y match with y_pred\n",
    "    correct /= size\n",
    "    \n",
    "    print(f\"Valid Error: \\n Accuracy: {(100*correct):>0.1f}%, Avg loss: {test_loss:>8f} \\n\")\n",
    "    \n",
    "    return batch_loss , batch_accuracy"
   ]
  },
  {
   "cell_type": "code",
   "execution_count": 39,
   "id": "95aacf20",
   "metadata": {},
   "outputs": [],
   "source": [
    "train_batch_loss = []\n",
    "train_batch_accuracy = []\n",
    "valid_batch_accuracy = []\n",
    "valid_batch_loss = []\n",
    "train_epoch_no = []\n",
    "valid_epoch_no = []"
   ]
  },
  {
   "cell_type": "code",
   "execution_count": null,
   "id": "250d72e4",
   "metadata": {},
   "outputs": [
    {
     "name": "stdout",
     "output_type": "stream",
     "text": [
      "Epoch 1\n",
      "-------------------------------\n"
     ]
    }
   ],
   "source": [
    "epochs = 5\n",
    "for t in range(epochs):\n",
    "    print(f\"Epoch {t+1}\\n-------------------------------\")\n",
    "    _train_batch_loss , _train_batch_accuracy = train(train_dataloader, model, loss_fn, optimizer)\n",
    "    _valid_batch_loss , _valid_batch_accuracy = validation(valid_dataloader, model, loss_fn)\n",
    "    for i in tqdm_notebook(range(len(_train_batch_loss)), desc = \"Train\"):\n",
    "        train_batch_loss.append(_train_batch_loss[i])\n",
    "        train_batch_accuracy.append(_train_batch_accuracy[i])\n",
    "        train_epoch_no.append( t + float((i+1)/len(_train_batch_loss)))     \n",
    "    for i in tqdm_notebook(range(len(_valid_batch_loss)), desc = \"Validation\"):\n",
    "        valid_batch_loss.append(_valid_batch_loss[i])\n",
    "        valid_batch_accuracy.append(_valid_batch_accuracy[i])\n",
    "        valid_epoch_no.append( t + float((i+1)/len(_valid_batch_loss)))     \n",
    "print(\"Done!\")"
   ]
  },
  {
   "cell_type": "code",
   "execution_count": null,
   "id": "c8971208",
   "metadata": {},
   "outputs": [],
   "source": [
    "figure = plt.figure(figsize=(16, 16))\n",
    "\n",
    "\n",
    "figure.add_subplot(2, 2, 1)\n",
    "plt.plot(train_epoch_no , train_batch_accuracy)\n",
    "plt.title(\"Train Batch Accuracy\")\n",
    "plt.xlabel(\"Epochs\") \n",
    "plt.ylabel(\"Train Accuracy\") \n",
    "\n",
    "figure.add_subplot(2, 2, 2)\n",
    "plt.plot(train_epoch_no , train_batch_loss)\n",
    "plt.title(\"Train Batch Loss\")\n",
    "plt.xlabel(\"Epochs\") \n",
    "plt.ylabel(\"Train Loss\") \n",
    "\n",
    "figure.add_subplot(2, 2, 3)\n",
    "plt.plot(valid_epoch_no , valid_batch_accuracy)\n",
    "plt.title(\"Valid Batch Accuracy\")\n",
    "plt.xlabel(\"Epochs\") \n",
    "plt.ylabel(\"Train Accuracy\") \n",
    "\n",
    "figure.add_subplot(2, 2, 4)\n",
    "plt.plot(valid_epoch_no , valid_batch_loss)\n",
    "plt.title(\"Valid Batch Loss\")\n",
    "plt.xlabel(\"Epochs\") \n",
    "plt.ylabel(\"Train Loss\") \n",
    "\n",
    "\n",
    "plt.show()"
   ]
  },
  {
   "cell_type": "code",
   "execution_count": null,
   "id": "321466aa",
   "metadata": {},
   "outputs": [],
   "source": []
  }
 ],
 "metadata": {
  "kernelspec": {
   "display_name": "Python 3 (ipykernel)",
   "language": "python",
   "name": "python3"
  },
  "language_info": {
   "codemirror_mode": {
    "name": "ipython",
    "version": 3
   },
   "file_extension": ".py",
   "mimetype": "text/x-python",
   "name": "python",
   "nbconvert_exporter": "python",
   "pygments_lexer": "ipython3",
   "version": "3.9.12"
  },
  "toc": {
   "base_numbering": 1,
   "nav_menu": {},
   "number_sections": false,
   "sideBar": true,
   "skip_h1_title": false,
   "title_cell": "Table of Contents",
   "title_sidebar": "Contents",
   "toc_cell": false,
   "toc_position": {},
   "toc_section_display": true,
   "toc_window_display": false
  }
 },
 "nbformat": 4,
 "nbformat_minor": 5
}
